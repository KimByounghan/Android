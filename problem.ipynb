{
  "cells": [
    {
      "cell_type": "markdown",
      "metadata": {
        "id": "view-in-github",
        "colab_type": "text"
      },
      "source": [
        "<a href=\"https://colab.research.google.com/github/KimByounghan/Android/blob/master/problem.ipynb\" target=\"_parent\"><img src=\"https://colab.research.google.com/assets/colab-badge.svg\" alt=\"Open In Colab\"/></a>"
      ]
    },
    {
      "cell_type": "code",
      "source": [
        "!pwd"
      ],
      "metadata": {
        "id": "IrHiwjOQ-hJW"
      },
      "execution_count": null,
      "outputs": []
    },
    {
      "cell_type": "code",
      "source": [
        "!ls -lha"
      ],
      "metadata": {
        "id": "-9jlCeia5AqK"
      },
      "execution_count": null,
      "outputs": []
    },
    {
      "cell_type": "code",
      "source": [
        "cd drive/MyDrive/Colab"
      ],
      "metadata": {
        "id": "i4vM3NJy5x9-"
      },
      "execution_count": null,
      "outputs": []
    },
    {
      "cell_type": "code",
      "source": [
        "!cat /etc/issue"
      ],
      "metadata": {
        "id": "NNXm8Jzx1auH"
      },
      "execution_count": null,
      "outputs": []
    },
    {
      "cell_type": "code",
      "source": [
        "!cat /proc/cpuinfo"
      ],
      "metadata": {
        "id": "KymixKXg_zEU"
      },
      "execution_count": null,
      "outputs": []
    },
    {
      "cell_type": "code",
      "source": [
        "!cat /proc/meminfo\n",
        "!cat /proc/cpuinfo\n",
        "!pwd"
      ],
      "metadata": {
        "id": "DZ1YWS3k_8eF"
      },
      "execution_count": null,
      "outputs": []
    },
    {
      "cell_type": "code",
      "source": [
        "cd MyDrive/Colab"
      ],
      "metadata": {
        "id": "-JUZA0p7Adj-"
      },
      "execution_count": null,
      "outputs": []
    },
    {
      "cell_type": "code",
      "source": [
        "!pwd"
      ],
      "metadata": {
        "id": "1dOo2i6OBsnY"
      },
      "execution_count": null,
      "outputs": []
    },
    {
      "cell_type": "code",
      "source": [
        "!ls -lah"
      ],
      "metadata": {
        "id": "YmKxriyLB43O"
      },
      "execution_count": null,
      "outputs": []
    },
    {
      "cell_type": "markdown",
      "source": [
        "**데이콘 경진대회 1등송루션 04장**"
      ],
      "metadata": {
        "id": "-z9zx-HmB6bW"
      }
    },
    {
      "cell_type": "markdown",
      "source": [
        "상점 신용카드 매출 예측 경진대회를 소개하고 대회를 주최한 동기를 살펴봅니다.\n",
        "\n",
        "상점 신용카드 매출 예측 경진대회는 2016.6.1.부터 2019.02.28. 까지의 신용카드 매출 데이터를 가지고 2019.3.1부터 2019.5.31.까지 상점별 3개월 총매출을 예측하는 경진대회입니다. 3,4,5월은 봄이고 새 학기 시작입니다. 황사 등 날씨 영향도 받을 수 잇고 5월 가정의 달의 영향도 받을 수 있습니다."
      ],
      "metadata": {
        "id": "HNzFgDn4Cuqs"
      }
    },
    {
      "cell_type": "code",
      "execution_count": null,
      "metadata": {
        "id": "twGOIT3cglTd"
      },
      "outputs": [],
      "source": [
        "import pandas as pd\n",
        "import numpy as np\n",
        "import seaborn as sns\n",
        "from tqdm import tqdm\n",
        "import matplotlib.pyplot as plt\n",
        "train = pd.read_csv('./funda_train.csv')\n",
        "train = train\n",
        "train.head()"
      ]
    },
    {
      "cell_type": "code",
      "source": [
        "train.shape"
      ],
      "metadata": {
        "id": "Lzoyr6azCnlS"
      },
      "execution_count": null,
      "outputs": []
    },
    {
      "cell_type": "code",
      "source": [
        "train.info()"
      ],
      "metadata": {
        "id": "Qyi5sndzFyRK"
      },
      "execution_count": null,
      "outputs": []
    },
    {
      "cell_type": "code",
      "source": [
        "train[:5]"
      ],
      "metadata": {
        "id": "CelMl_uYF39t"
      },
      "execution_count": null,
      "outputs": []
    },
    {
      "cell_type": "code",
      "source": [
        "train[2:]"
      ],
      "metadata": {
        "id": "FBOnoKpzEwHh"
      },
      "execution_count": null,
      "outputs": []
    },
    {
      "cell_type": "code",
      "source": [
        "train[train['amount']<0]"
      ],
      "metadata": {
        "id": "Eo5CBb4PGuZR"
      },
      "execution_count": null,
      "outputs": []
    },
    {
      "cell_type": "code",
      "execution_count": null,
      "metadata": {
        "id": "NYOYkcT55zOL"
      },
      "outputs": [],
      "source": [
        "!cat /proc/meminfo"
      ]
    },
    {
      "cell_type": "code",
      "execution_count": null,
      "metadata": {
        "id": "KtukyeJs5zse"
      },
      "outputs": [],
      "source": [
        "!pwd"
      ]
    },
    {
      "cell_type": "code",
      "source": [
        "plt.figure(figsize=(10, 8))\n",
        "plt.bar(train.columns, train.isnull().sum())\n",
        "plt.xticks(rotation=90)"
      ],
      "metadata": {
        "id": "MoH9VriMKBvG"
      },
      "execution_count": null,
      "outputs": []
    },
    {
      "cell_type": "markdown",
      "source": [
        "결측치가 존재하는 region, type_of_business를 제거하고 결과를 출력합니다.\n",
        "제거하는 방법은 'drop'명령어를 사용합니다."
      ],
      "metadata": {
        "id": "6TwaNMKzGgkU"
      }
    },
    {
      "cell_type": "code",
      "execution_count": null,
      "metadata": {
        "id": "2W0oY9fk50VF"
      },
      "outputs": [],
      "source": [
        "train = train.drop(['region','type_of_business'],axis=1)\n",
        "train.head()"
      ]
    },
    {
      "cell_type": "code",
      "source": [
        "train[0:]"
      ],
      "metadata": {
        "id": "qbIKJ2nlGy16"
      },
      "execution_count": null,
      "outputs": []
    },
    {
      "cell_type": "code",
      "source": [
        "plt.figure(figsize=(32,6))\n",
        "sns.boxplot(train['amount'])"
      ],
      "metadata": {
        "id": "IRyJ2Ti4Lr8H"
      },
      "execution_count": null,
      "outputs": []
    },
    {
      "cell_type": "markdown",
      "source": [
        "매출액이 음수로 집계된 경우는 카드 거래 데이터에서 환불이 발생한 것입니다. 우선 환불 발생 현황을 확인하기 우해 0 미만의 행을 출력합니다."
      ],
      "metadata": {
        "id": "C6uWp321HnF-"
      }
    },
    {
      "cell_type": "code",
      "source": [
        "train[train['amount']<0]"
      ],
      "metadata": {
        "id": "5xtlSl8XMYzq"
      },
      "execution_count": null,
      "outputs": []
    },
    {
      "cell_type": "code",
      "source": [
        "!cat /proc/meminfo"
      ],
      "metadata": {
        "id": "aNz-QdYNcqwb"
      },
      "execution_count": null,
      "outputs": []
    },
    {
      "cell_type": "markdown",
      "source": [
        "매출액이 음수로 집계된 카드 결제 내역 노이즈를 제거하기 위한 작업입니다.\n",
        "\n",
        "환불 발생 시간 이전의 걸내 내역 중 음수 매출액의 절댓값과 같은 행은 제거합니다.\n",
        "- 환불발생일과 환불발생시간 이전 데이터 중에서 카드 아이디가 같고 음수 매출액의 절댓값과 양수 매출액이 같은 거래 중 최근 거래를 찾아서 해당 인덱스를 제거합니다."
      ],
      "metadata": {
        "id": "j4gfmsubIDGt"
      }
    },
    {
      "cell_type": "markdown",
      "source": [
        "위 거래를 해결하기 위한 함수를 생성합니다\n",
        "\n",
        "함수는 store_amount_prediction.ipynb로 작업합니다.\n"
      ],
      "metadata": {
        "id": "x1cqwIrGIwP1"
      }
    },
    {
      "cell_type": "code",
      "source": [
        "# 거래일과 거래 시간을 합친 변수를 생성합니다.\n",
        "train['datetime'] = pd.to_datetime(train.transacted_date + \" \" + train.transacted_time, format='%Y-%m-%d %H:%M:%S')\n",
        "\n",
        "## 환불 거래를 제거하는 함수를 정의합니다.\n",
        "def remove_refund(df):\n",
        "    refund = df[df['amount']<0] # 매출액 음수값 데이터를 추출합니다.\n",
        "    non_refund = df[df['amount']>0] # 양수값 데이터를 추출합니다\n",
        "    removed_data = pd.DataFrame()\n",
        "    for i in tqdm(df.store_id.unique()):\n",
        "        # 매출액이 양수값인 데이터를 상점별로 나눕니다.\n",
        "        divided_data = non_refund[non_refund['store_id'] ==i]\n",
        "        # 매출액이 음수값인 데이터를 상점별로 나눕니다.\n",
        "        divided_data2 = refund[refund['store_id']==i]\n",
        "\n",
        "        for neg in divided_data2.to_records()[:]: # 환불 데이터를 차례대로 검사합니다.\n",
        "            refund_store = neg['store_id']\n",
        "            refund_id = neg['card_id'] # 환불 카드 아이디 추출\n",
        "            refund_datetime = neg['datetime'] # 환불 시간을 추출\n",
        "            refund_amount = abs(neg['amount']) # 매출 음수값의 절대값 구함\n",
        "\n",
        "            # 환불 시간 이전의 데이터 중 카드 아이디와 환불액이 같은 후보 리스틀 뽐음\n",
        "            refund_pay_list = divided_data[divided_data['datetime']<=refund_datetime]\n",
        "            refund_pay_list = refund_pay_list[refund_pay_list['card_id']==refund_id]\n",
        "            refund_pay_list = refund_pay_list[refund_pay_list['amount']==refund_amount]\n",
        "\n",
        "            # 후보 리스트가 있으면 카드 아이디와 환불액이 같으면서 최근시간을 제거\n",
        "            if len(refund_pay_list) != 0:\n",
        "                # 가장 최근 시간을 구함\n",
        "                refund_datetime = max(refund_pay_list['datetime'])\n",
        "                # 가장 최근 시간\n",
        "                noise_list = divided_data[divided_data['datetime']==refund_datetime]\n",
        "                # 환불카드 아이디\n",
        "                noise_list = noise_list[noise_list['card_id']==refund_id]\n",
        "                # 환불액\n",
        "                noise_list = noise_list[noise_list['amount']==refund_amount]\n",
        "                # 인덱스를 통해 제거\n",
        "                divided_data = divided_data.drop(index=noise_list.index)\n",
        "\n",
        "        ## 제거한 데이터를 데이터 프레임에 추가\n",
        "    removed_data = pd.concat([removed_data,divided_data],axis=0)\n",
        "\n",
        "    return removed_data #들여쓰기 조심"
      ],
      "metadata": {
        "id": "6bLFNfVUQbw7"
      },
      "execution_count": null,
      "outputs": []
    },
    {
      "cell_type": "code",
      "source": [
        "positive_data = remove_refund(train)"
      ],
      "metadata": {
        "id": "Iinl09u9bImD"
      },
      "execution_count": null,
      "outputs": []
    },
    {
      "cell_type": "code",
      "source": [
        "!cat /proc/meminfo"
      ],
      "metadata": {
        "id": "Jf80-US8p2qc"
      },
      "execution_count": null,
      "outputs": []
    },
    {
      "cell_type": "code",
      "source": [
        "positive_data"
      ],
      "metadata": {
        "id": "yr_RFu55exu4"
      },
      "execution_count": null,
      "outputs": []
    },
    {
      "cell_type": "code",
      "source": [
        "plt.figure(figsize=(8, 4))\n",
        "sns.boxplot(positive_data['amount'])"
      ],
      "metadata": {
        "id": "6N5KfKVXRGeh"
      },
      "execution_count": null,
      "outputs": []
    },
    {
      "cell_type": "markdown",
      "source": [
        "\n",
        "\n",
        "```\n",
        "# 코드로 형식 지정됨\n",
        "```\n",
        "\n",
        "다운 샘플링(287페이지)\n",
        "\n",
        "시계열 데이터에서 시간 간격을 넓게 재조정해 데이터 샘플 수를 줄이는 것을 말합니다. 대회에서 요구하는 것은 향후 3개월 동안 상점 매출의 총합을 구하는 것이 문제입니다. 시간 간격을 좁게 해 시계열 모델ㅇㄹ 만들면 예측해야 하는 구간이 커져 불확성이 증가합니다. 따라서 다운 샘플링 과정을 통해 샘플 수를 줄이고 예측 구간을 작게 해서 불확실성을 줄여야 합니다. \n",
        "\n",
        "다음은 주어진 데이터에서 월 단위로 다운 샘플링한 예시입니다."
      ],
      "metadata": {
        "id": "SrfLMoqxiS4p"
      }
    },
    {
      "cell_type": "code",
      "source": [
        "positive_data.head(20)"
      ],
      "metadata": {
        "id": "P0GwyacUibBw"
      },
      "execution_count": null,
      "outputs": []
    },
    {
      "cell_type": "markdown",
      "source": [
        "데이터 시간 함수를 월 단위로 재조정하는 함수"
      ],
      "metadata": {
        "id": "i8ZC43LcyuX7"
      }
    },
    {
      "cell_type": "code",
      "source": [
        "## 월 단위 다운 샘플링 함수를 정의\n",
        "def month_resampling(df):\n",
        "    new_data = pd.DataFrame()\n",
        "    # 년도와 월을 합친 변수를 생성\n",
        "    df['year_month'] = df['transacted_date'].str.slice(stop=7)\n",
        "    # 데이터의 전체 기간을 추출\n",
        "    year_month = df['year_month'].drop_duplicates()\n",
        "    # 상점 아이디별로 월 단위 매출액 총합을 구함\n",
        "    downsampling_data = df.groupby(['store_id', 'year_month']).amount.sum()\n",
        "    downsampling_data = pd.DataFrame(downsampling_data)\n",
        "    downsampling_data = downsampling_data.reset_index(drop=False, inplace=False)\n",
        "\n",
        "    for i in tqdm(df.store_id.unique()):\n",
        "        # 상점별로 데이터를 처리\n",
        "        store = downsampling_data[downsampling_data['store_id']==i]\n",
        "        # 각 상점의 처음 매출이 발생한 월을 구함\n",
        "        start_time = min(store['year_month'])\n",
        "        # 모든 상점을 전체 기간 데이터로 만듬\n",
        "        store = store.merge(year_month, how='outer')\n",
        "        # 데이터를 시간순으로 정렬\n",
        "        store = store.sort_values(by=['year_month'], axis=0, ascending=True)\n",
        "        # 매출이 발생하지 않는 월은 2로 채움\n",
        "        store['amount'] = store['amount'].fillna(2)\n",
        "        # 상점 아이디 결측치를 채움\n",
        "        store['store_id'] = store['store_id'].fillna(i)\n",
        "        # 처음 매출이 발생한 월 이후만 뽑음\n",
        "        store = store[store['year_month']>=start_time]\n",
        "\n",
        "        new_data = pd.concat([new_data,store], axis=0)\n",
        "    \n",
        "    return new_data\n"
      ],
      "metadata": {
        "id": "F8MtWMmttAE8"
      },
      "execution_count": null,
      "outputs": []
    },
    {
      "cell_type": "code",
      "source": [
        "resampling_data = month_resampling(positive_data)\n",
        "resampling_data['store_id'] = resampling_data['store_id'].astype(int)\n",
        "resampling_data"
      ],
      "metadata": {
        "id": "15MhAp8NzKG8"
      },
      "execution_count": null,
      "outputs": []
    },
    {
      "cell_type": "markdown",
      "source": [
        "**날짜 지정 밤위 생성과 시리즈 객체 변환(291쪽)**"
      ],
      "metadata": {
        "id": "5I4meUdb0-64"
      }
    },
    {
      "cell_type": "markdown",
      "source": [
        "시계열 데이터 분석을 위해서는 데이터프레임을 시리즈 객체로 변환하여야 합니다. "
      ],
      "metadata": {
        "id": "d_OSa_1c1R3K"
      }
    },
    {
      "cell_type": "code",
      "source": [
        "# 데이터 타입 출력\n",
        "print(type(resampling_data))"
      ],
      "metadata": {
        "id": "UlzycCuH1z06"
      },
      "execution_count": null,
      "outputs": []
    },
    {
      "cell_type": "code",
      "source": [
        "# 데이터 프레임을 Series로 변환하는 함수\n",
        "def time_series(df, i):\n",
        "    # 상점별로 데이터를 뽑음\n",
        "    store = df[df['store_id']==i]\n",
        "    ## 날짜 지정 범위는 영업 시작 월부터 2019년 3월 전까지 영업 마감일 기준\n",
        "    index = pd.date_range(min(store['year_month']), '2019-03', freq='BM')\n",
        "    ## 시리즈 객체로 변환\n",
        "    ts = pd.Series(store['amount'].values, index=index)\n",
        "    return ts"
      ],
      "metadata": {
        "id": "hkIISEqa2JCx"
      },
      "execution_count": null,
      "outputs": []
    },
    {
      "cell_type": "code",
      "source": [
        "# 상점 아이디가 0번인 데이터를 시리즈 객체로 변환\n",
        "store_0 = time_series(resampling_data, 0)\n",
        "store_0"
      ],
      "metadata": {
        "id": "Uk0rQ7Lh3DUa"
      },
      "execution_count": null,
      "outputs": []
    },
    {
      "cell_type": "code",
      "source": [
        "!cat /proc/meminfo"
      ],
      "metadata": {
        "id": "0abt4kje5wYZ"
      },
      "execution_count": null,
      "outputs": []
    },
    {
      "cell_type": "code",
      "source": [
        "from google.colab import files"
      ],
      "metadata": {
        "id": "twWpfLYESx8P"
      },
      "execution_count": null,
      "outputs": []
    },
    {
      "cell_type": "code",
      "source": [
        "files.download('problem.ipynb')"
      ],
      "metadata": {
        "id": "pp6ktrGjdAbA"
      },
      "execution_count": null,
      "outputs": []
    },
    {
      "cell_type": "code",
      "source": [
        "upload = files.upload()"
      ],
      "metadata": {
        "id": "ftPE5covSKNT"
      },
      "execution_count": null,
      "outputs": []
    },
    {
      "cell_type": "code",
      "source": [
        "!ls -lh"
      ],
      "metadata": {
        "id": "iN3kd_X1X4zK"
      },
      "execution_count": null,
      "outputs": []
    },
    {
      "cell_type": "code",
      "source": [
        "!echo $UID"
      ],
      "metadata": {
        "id": "__7vDJYugzgU"
      },
      "execution_count": null,
      "outputs": []
    },
    {
      "cell_type": "markdown",
      "metadata": {
        "id": "z3LdUV-qljft"
      },
      "source": [
        ""
      ]
    }
  ],
  "metadata": {
    "colab": {
      "name": "problem.ipynb",
      "provenance": [],
      "private_outputs": true,
      "collapsed_sections": [],
      "mount_file_id": "1sBj6WoqCRsLTRcGtlfEBnyGdnfUsgMrk",
      "authorship_tag": "ABX9TyN9Gr8X4se+rU52ekTKt62s",
      "include_colab_link": true
    },
    "kernelspec": {
      "display_name": "Python 3",
      "name": "python3"
    },
    "language_info": {
      "name": "python"
    }
  },
  "nbformat": 4,
  "nbformat_minor": 0
}